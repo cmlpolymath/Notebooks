{
 "cells": [
  {
   "cell_type": "markdown",
   "metadata": {},
   "source": [
    "## Creating virtual environment in terminal\n",
    "\n",
    "1) go to python directory\n",
    "2) python -m venv .name_of_virtual_environment\n",
    "    * this creates a venv located at that directory\n",
    "3) Navigate to that path in terminal\n",
    "4) input \"Scripts\\activate\"\n",
    "5) the environment is now activated\n",
    "    * test with \"python --version\"\n",
    "6) if you have a requirements file:\n",
    "    * activate environment\n",
    "    * \"python -m pip install -r \"path/to/requirements.yml\""
   ]
  },
  {
   "cell_type": "markdown",
   "metadata": {},
   "source": [
    "https://medium.com/swlh/setting-up-a-conda-environment-in-less-than-5-minutes-e64d8fc338e4"
   ]
  },
  {
   "cell_type": "code",
   "execution_count": null,
   "metadata": {},
   "outputs": [],
   "source": [
    "!conda env create -n crossroads -f \"D:\\C Junction\\anaconda3\\crossroads.yml\"\n",
    "!conda activate crossroads\n",
    "!conda list"
   ]
  },
  {
   "cell_type": "markdown",
   "metadata": {},
   "source": [
    "Linux pdf\n",
    "https://lescahiersdudebutant.arpinux.org/bookworm-en/download/the_beginners_handbook.pdf"
   ]
  },
  {
   "cell_type": "markdown",
   "metadata": {},
   "source": [
    "## Creating Conda env in the terminal\n",
    "\n",
    "1) Navigate to anaconda installation\n",
    "    * \"D:\\anaconda3\\condabin\"\n",
    "2) You now have full functionality of anaconda prompt"
   ]
  },
  {
   "cell_type": "code",
   "execution_count": null,
   "metadata": {},
   "outputs": [],
   "source": [
    "def decode(message_file):\n",
    "    # Open the file for reading\n",
    "    with open(message_file, 'r') as file:\n",
    "        # Read lines into a list, each line is stripped of the leading/trailing whitespace\n",
    "        lines = [line.strip() for line in file.readlines()]\n",
    "\n",
    "    # Create a dictionary to hold number-word pairs\n",
    "    number_word_pairs = {}\n",
    "\n",
    "    # Populate the dictionary with numbers as keys and words as values\n",
    "    for line in lines:\n",
    "        number, word = line.split(' ', 1)  # Splitting each line by the first space\n",
    "        number_word_pairs[int(number)] = word  # Converting number to int for sorting purposes\n",
    "\n",
    "    # The pyramid structure starts with 1 word and increases by one each level\n",
    "    # Initialize variables to track the current number of words in the level and the expected index\n",
    "    words_in_level = 1\n",
    "    expected_index = 1\n",
    "\n",
    "    # List to store the selected message words\n",
    "    message_words = []\n",
    "\n",
    "    # Iterate over sorted keys to respect the numeric order\n",
    "    for number in sorted(number_word_pairs.keys()):\n",
    "        if number == expected_index:\n",
    "            # Append the word corresponding to the end of the pyramid level\n",
    "            message_words.append(number_word_pairs[number])\n",
    "            # Move to next level in the pyramid, thus increment the expected index by the new level size\n",
    "            words_in_level += 1\n",
    "            expected_index += words_in_level\n",
    "\n",
    "    # Join the message words with spaces to form the final decoded message\n",
    "    return ' '.join(message_words)\n",
    "\n",
    "# Example usage:\n",
    "# decoded_message = decode('encoded_message.txt')\n",
    "# print(decoded_message)"
   ]
  },
  {
   "cell_type": "markdown",
   "metadata": {},
   "source": [
    "## Working with Files"
   ]
  },
  {
   "cell_type": "code",
   "execution_count": null,
   "metadata": {
    "vscode": {
     "languageId": "plaintext"
    }
   },
   "outputs": [],
   "source": [
    "from pathlib import Path\n",
    "\n",
    "# Construct the path with forward slashes\n",
    "path = Path(os.getcwd()) / 'folder_of_interest'\n",
    "\n",
    "# Convert the path to a string if necessary\n",
    "path_str = str(path)\n",
    "\n",
    "print(path_str)\n",
    "\n",
    "# This will enforce forward slashes\n",
    "posix_path_str = path.as_posix()\n",
    "\n",
    "print(posix_path_str)"
   ]
  },
  {
   "cell_type": "code",
   "execution_count": null,
   "metadata": {
    "vscode": {
     "languageId": "plaintext"
    }
   },
   "outputs": [],
   "source": [
    "# Your current directory as a Path object\n",
    "current_path = Path(r'C:\\Users\\cml_p\\Python\\Learning\\DLs\\Hands-On-Data-Preprocessing-in-Python-main\\Chapter09')\n",
    "\n",
    "# Get the parent directory\n",
    "parent_directory = current_path.parent\n",
    "print(parent_directory)\n",
    "\n",
    "# Define the new directory (Chapter10)\n",
    "new_directory = parent_directory / 'Chapter10'\n",
    "\n",
    "# You could now change to that directory as follows:\n",
    "# However, this won't change the actual working directory\n",
    "# for the process running this script. It only serves as a\n",
    "# reference to utilize within your code.\n",
    "\n",
    "# If you want to change the actual working directory:\n",
    "os.chdir(new_directory)\n",
    "\n",
    "# Verify the change\n",
    "print(f'Current working directory: {Path.cwd()}')"
   ]
  },
  {
   "cell_type": "markdown",
   "metadata": {},
   "source": [
    "## Images"
   ]
  },
  {
   "cell_type": "markdown",
   "metadata": {},
   "source": [
    "### Save from clipboard\n",
    "* allows easier maintenance of images\n",
    "```python\n",
    "from PIL import ImageGrab\n",
    "from pathlib import Path\n",
    "import os\n",
    "#test\n",
    "image_path = Path(r'C:\\Users\\cml_p\\Python\\Learning\\Hands_on_Data_Preprocessing') / 'images' / 'SBID.png'\n",
    "\n",
    "def save_image_to_path(image_path):\n",
    "    # Define the path where you want to save the image\n",
    "    image_path = Path(image_path)\n",
    "\n",
    "    # Check if the directory exists\n",
    "    if not image_path.parent.exists():\n",
    "        # Create the directory if it does not exist\n",
    "        try:\n",
    "            os.makedirs(image_path.parent)\n",
    "        except Exception as e:\n",
    "            print(f\"Failed to create directory: {str(e)}\")\n",
    "            return\n",
    "\n",
    "    # Grab the image from the clipboard\n",
    "    image = ImageGrab.grabclipboard()\n",
    "\n",
    "    # Check if there is an image in the clipboard\n",
    "    if image:\n",
    "        # Save the image to the defined path\n",
    "        try:\n",
    "            image.save(image_path)\n",
    "            print(f\"Image saved to {image_path}\")\n",
    "        except Exception as e:\n",
    "            print(f\"Failed to save image to path: {str(e)}\")\n",
    "    else:\n",
    "        print(\"No image is found in the clipboard.\")\n",
    "\n",
    "save_image_to_path(image_path)\n",
    "```"
   ]
  },
  {
   "cell_type": "markdown",
   "metadata": {},
   "source": []
  },
  {
   "cell_type": "markdown",
   "metadata": {
    "vscode": {
     "languageId": "plaintext"
    }
   },
   "source": [
    "## Languages"
   ]
  },
  {
   "cell_type": "markdown",
   "metadata": {},
   "source": [
    "### Markdown\n",
    "* this is how you write a comment in markdown\n",
    "```markdown\n",
    "[//]: # (comment that I wanted to hide from the masses)\n",
    "```"
   ]
  },
  {
   "cell_type": "markdown",
   "metadata": {},
   "source": []
  }
 ],
 "metadata": {
  "kernelspec": {
   "display_name": ".dash_project",
   "language": "python",
   "name": "python3"
  },
  "language_info": {
   "codemirror_mode": {
    "name": "ipython",
    "version": 3
   },
   "file_extension": ".py",
   "mimetype": "text/x-python",
   "name": "python",
   "nbconvert_exporter": "python",
   "pygments_lexer": "ipython3",
   "version": "3.11.7"
  }
 },
 "nbformat": 4,
 "nbformat_minor": 2
}
